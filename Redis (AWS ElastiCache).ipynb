{
 "cells": [
  {
   "cell_type": "markdown",
   "id": "706547d5-7bdd-4407-a0c9-0225d6d83d9d",
   "metadata": {},
   "source": [
    "Key-Value Stores"
   ]
  },
  {
   "cell_type": "markdown",
   "id": "c960ec60-89dc-4aaa-991a-1468a6517394",
   "metadata": {},
   "source": [
    "Install the Redis Python client"
   ]
  },
  {
   "cell_type": "code",
   "execution_count": null,
   "id": "2e29012a-6040-45ee-82cf-7b91310513dd",
   "metadata": {},
   "outputs": [],
   "source": [
    "pip install redis"
   ]
  },
  {
   "cell_type": "markdown",
   "id": "efe8db0b-4b15-4441-9c7a-337ae46b34e9",
   "metadata": {},
   "source": [
    "Connect to Redis in your Jupyter Notebook"
   ]
  },
  {
   "cell_type": "code",
   "execution_count": 19,
   "id": "88e750d0-b4a0-42cf-a70b-7a6dc82785ca",
   "metadata": {},
   "outputs": [],
   "source": [
    "import redis\n",
    "\n",
    "# Connect to the local Redis server\n",
    "r = redis.Redis(host='localhost', port=6379, db=0)\n"
   ]
  },
  {
   "cell_type": "markdown",
   "id": "998bf8af-e331-4879-a7bd-86f8b6f5a820",
   "metadata": {},
   "source": [
    "Test the connection by setting and getting a key"
   ]
  },
  {
   "cell_type": "code",
   "execution_count": 21,
   "id": "270aaea4-8d56-4c0a-9709-c45a11e918d1",
   "metadata": {
    "scrolled": true
   },
   "outputs": [
    {
     "name": "stdout",
     "output_type": "stream",
     "text": [
      "b'session_value'\n"
     ]
    }
   ],
   "source": [
    "# Set a key\n",
    "r.set('session_id', 'session_value')\n",
    "\n",
    "# Get the key\n",
    "print(r.get('session_id'))\n"
   ]
  },
  {
   "cell_type": "markdown",
   "id": "266d4c1f-bf5c-40e3-9713-0fc4df10d4d0",
   "metadata": {},
   "source": [
    "Connect to AWS ElastiCache Redis from Python"
   ]
  },
  {
   "cell_type": "code",
   "execution_count": 33,
   "id": "4e9fcf4d-4cd6-45c0-938e-df12fc4a7915",
   "metadata": {},
   "outputs": [],
   "source": [
    "r = redis.Redis(host='<my-redis-cache-rkxtdt.serverless.apse2.cache.amazonaws.com:6379>', port=6379, db=0)\n"
   ]
  },
  {
   "cell_type": "markdown",
   "id": "7d0221e2-6ebd-4075-8e1b-f1f6a0048296",
   "metadata": {},
   "source": [
    "Implementing the Key-Value Store for Session Management"
   ]
  },
  {
   "cell_type": "markdown",
   "id": "baf00dbd-5b43-466f-8c8d-0f520722787f",
   "metadata": {},
   "source": [
    "Design the session data structure"
   ]
  },
  {
   "cell_type": "code",
   "execution_count": 9,
   "id": "ffaf6c14-fa79-476c-ad79-b957291e0127",
   "metadata": {},
   "outputs": [],
   "source": [
    "session_data = {\n",
    "    \"user_id\": \"12345\",\n",
    "    \"login_timestamp\": \"2024-08-29T12:34:56\",\n",
    "    \"preferences\": {\"theme\": \"dark\", \"notifications\": \"enabled\"}\n",
    "}\n"
   ]
  },
  {
   "cell_type": "markdown",
   "id": "332d774c-cd19-481c-9ba3-1de7d3b5bbc7",
   "metadata": {},
   "source": [
    "Serialize the data before storing it in Redis"
   ]
  },
  {
   "cell_type": "code",
   "execution_count": 11,
   "id": "c985fb6b-15ec-4fde-be3b-950b8340608d",
   "metadata": {},
   "outputs": [],
   "source": [
    "import json\n",
    "\n",
    "# Serialize session data\n",
    "session_data_str = json.dumps(session_data)\n"
   ]
  },
  {
   "cell_type": "markdown",
   "id": "d10eb796-79fd-418d-a810-f9cb3fa133db",
   "metadata": {},
   "source": [
    "Create a session"
   ]
  },
  {
   "cell_type": "code",
   "execution_count": 23,
   "id": "946343e1-8e6f-482f-8bf3-7b18675daf5d",
   "metadata": {},
   "outputs": [
    {
     "data": {
      "text/plain": [
       "True"
      ]
     },
     "execution_count": 23,
     "metadata": {},
     "output_type": "execute_result"
    }
   ],
   "source": [
    "session_id = \"session_123\"\n",
    "r.set(session_id, session_data_str)\n"
   ]
  },
  {
   "cell_type": "markdown",
   "id": "c18d4751-69b5-4601-bd51-43900b5a2c60",
   "metadata": {},
   "source": [
    "Retrieve a session"
   ]
  },
  {
   "cell_type": "code",
   "execution_count": 25,
   "id": "9261a2df-68e5-46f2-9030-7978c79ac014",
   "metadata": {},
   "outputs": [
    {
     "name": "stdout",
     "output_type": "stream",
     "text": [
      "{'user_id': '12345', 'login_timestamp': '2024-08-29T12:34:56', 'preferences': {'theme': 'dark', 'notifications': 'enabled'}}\n"
     ]
    }
   ],
   "source": [
    "session_data_retrieved = json.loads(r.get(session_id))\n",
    "print(session_data_retrieved)\n"
   ]
  },
  {
   "cell_type": "markdown",
   "id": "901b42ca-44e6-4859-afb0-0e4ba32434e2",
   "metadata": {},
   "source": [
    "Update a session"
   ]
  },
  {
   "cell_type": "code",
   "execution_count": 27,
   "id": "45d79d2c-e86b-4c12-9851-e456bba1b78f",
   "metadata": {},
   "outputs": [
    {
     "data": {
      "text/plain": [
       "True"
      ]
     },
     "execution_count": 27,
     "metadata": {},
     "output_type": "execute_result"
    }
   ],
   "source": [
    "session_data['preferences']['theme'] = 'light'\n",
    "r.set(session_id, json.dumps(session_data))\n"
   ]
  },
  {
   "cell_type": "markdown",
   "id": "ad4df9d0-d609-4481-b834-f97cbf75a6d0",
   "metadata": {},
   "source": [
    "Delete a session"
   ]
  },
  {
   "cell_type": "code",
   "execution_count": 29,
   "id": "d6a60d5e-0fc7-460d-b394-0620cc4b1dfe",
   "metadata": {},
   "outputs": [
    {
     "data": {
      "text/plain": [
       "1"
      ]
     },
     "execution_count": 29,
     "metadata": {},
     "output_type": "execute_result"
    }
   ],
   "source": [
    "r.delete(session_id)\n"
   ]
  },
  {
   "cell_type": "markdown",
   "id": "ee6fbb2a-8c57-4483-ac72-49d552597590",
   "metadata": {},
   "source": [
    "Set a TTL (Time-to-Live) for a session key"
   ]
  },
  {
   "cell_type": "code",
   "execution_count": 31,
   "id": "6e0c231d-a5cf-41c8-bc7e-e2cdf9d48038",
   "metadata": {},
   "outputs": [
    {
     "data": {
      "text/plain": [
       "True"
      ]
     },
     "execution_count": 31,
     "metadata": {},
     "output_type": "execute_result"
    }
   ],
   "source": [
    "r.setex(session_id, 3600, json.dumps(session_data))  # Expires in 1 hour\n"
   ]
  },
  {
   "cell_type": "markdown",
   "id": "a743867b-0ab8-48db-9290-c387109a6a4b",
   "metadata": {},
   "source": [
    " Discuss Consistency vs. Availability\n",
    " \n",
    "1.Consistency: Redis offers strong consistency with synchronous replication but at the cost of availability during failover.\n",
    "\n",
    "2.Availability: Asynchronous replication enhances availability but may result in eventual consistency."
   ]
  }
 ],
 "metadata": {
  "kernelspec": {
   "display_name": "Python 3 (ipykernel)",
   "language": "python",
   "name": "python3"
  },
  "language_info": {
   "codemirror_mode": {
    "name": "ipython",
    "version": 3
   },
   "file_extension": ".py",
   "mimetype": "text/x-python",
   "name": "python",
   "nbconvert_exporter": "python",
   "pygments_lexer": "ipython3",
   "version": "3.12.4"
  }
 },
 "nbformat": 4,
 "nbformat_minor": 5
}
