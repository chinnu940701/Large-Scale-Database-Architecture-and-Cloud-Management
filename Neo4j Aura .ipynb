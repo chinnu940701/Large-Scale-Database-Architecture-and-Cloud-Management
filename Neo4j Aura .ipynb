{
 "cells": [
  {
   "cell_type": "code",
   "execution_count": null,
   "id": "aac24311-b815-4b35-9c2c-8057f1e2bc55",
   "metadata": {},
   "outputs": [],
   "source": [
    "!pip install neo4j"
   ]
  },
  {
   "cell_type": "markdown",
   "id": "18e365d2-6cf4-4af1-8ca7-92ca1fc3599f",
   "metadata": {},
   "source": [
    "Connect to the Neo4j Database"
   ]
  },
  {
   "cell_type": "code",
   "execution_count": 1,
   "id": "ee8669c8-917a-4175-a035-c72f0be333e1",
   "metadata": {},
   "outputs": [
    {
     "name": "stdout",
     "output_type": "stream",
     "text": [
      "Connection Successful!\n"
     ]
    }
   ],
   "source": [
    "from neo4j import GraphDatabase\n",
    "\n",
    "# Connection details\n",
    "uri = \"neo4j+s://878e8d59.databases.neo4j.io\"\n",
    "username = \"neo4j\"\n",
    "password = \"uvpmwHTcfx6OafM2JQpMfy05Jblkvft3YTOyDib2osU\"\n",
    "\n",
    "# Create a driver instance\n",
    "driver = GraphDatabase.driver(uri, auth=(username, password))\n",
    "\n",
    "# Test the connection\n",
    "def test_connection(driver):\n",
    "    with driver.session() as session:\n",
    "        result = session.run(\"RETURN 'Connection Successful!'\")\n",
    "        print(result.single()[0])\n",
    "\n",
    "test_connection(driver)\n"
   ]
  },
  {
   "cell_type": "markdown",
   "id": "22dfbc82-616e-4b72-9d00-74f1753c4fe4",
   "metadata": {},
   "source": [
    " Design the Graph Schema"
   ]
  },
  {
   "cell_type": "code",
   "execution_count": 5,
   "id": "3f7ab303-8fd4-4536-9f6a-5963db2dfe5b",
   "metadata": {},
   "outputs": [],
   "source": [
    "def create_graph_schema(driver):\n",
    "    with driver.session() as session:\n",
    "        # Create Department nodes\n",
    "        session.run(\"CREATE (:Department {department_name: 'HR', department_id: 'D1'})\")\n",
    "        session.run(\"CREATE (:Department {department_name: 'Engineering', department_id: 'D2'})\")\n",
    "\n",
    "        # Create Employee nodes\n",
    "        session.run(\"\"\"\n",
    "            CREATE (e1:Employee {name: 'Alice', employee_id: 'E1', position: 'Manager', department: 'HR', email: 'alice@example.com'})\n",
    "        \"\"\")\n",
    "        session.run(\"\"\"\n",
    "            CREATE (e2:Employee {name: 'Bob', employee_id: 'E2', position: 'Engineer', department: 'Engineering', email: 'bob@example.com'})\n",
    "        \"\"\")\n",
    "        session.run(\"\"\"\n",
    "            CREATE (e3:Employee {name: 'Charlie', employee_id: 'E3', position: 'HR Specialist', department: 'HR', email: 'charlie@example.com'})\n",
    "        \"\"\")\n",
    "\n",
    "        # Create BELONGS_TO relationships\n",
    "        session.run(\"\"\"\n",
    "            MATCH (e:Employee {name: 'Alice'}), (d:Department {department_name: 'HR'})\n",
    "            CREATE (e)-[:BELONGS_TO]->(d)\n",
    "        \"\"\")\n",
    "        session.run(\"\"\"\n",
    "            MATCH (e:Employee {name: 'Bob'}), (d:Department {department_name: 'Engineering'})\n",
    "            CREATE (e)-[:BELONGS_TO]->(d)\n",
    "        \"\"\")\n",
    "        session.run(\"\"\"\n",
    "            MATCH (e:Employee {name: 'Charlie'}), (d:Department {department_name: 'HR'})\n",
    "            CREATE (e)-[:BELONGS_TO]->(d)\n",
    "        \"\"\")\n",
    "\n",
    "        # Create REPORTS_TO relationships\n",
    "        session.run(\"\"\"\n",
    "            MATCH (e1:Employee {name: 'Charlie'}), (e2:Employee {name: 'Alice'})\n",
    "            CREATE (e1)-[:REPORTS_TO]->(e2)\n",
    "        \"\"\")\n",
    "        session.run(\"\"\"\n",
    "            MATCH (e2:Employee {name: 'Bob'}), (e3:Employee {name: 'Alice'})\n",
    "            CREATE (e2)-[:REPORTS_TO]->(e3)\n",
    "        \"\"\")\n",
    "\n",
    "create_graph_schema(driver)\n"
   ]
  },
  {
   "cell_type": "markdown",
   "id": "28c4a61e-9b98-454a-b29c-ca7be6ac28d1",
   "metadata": {},
   "source": [
    "Create and Query Nodes and Relationships"
   ]
  },
  {
   "cell_type": "code",
   "execution_count": 7,
   "id": "6c920d01-9a1b-49d3-ae71-a847a8101938",
   "metadata": {},
   "outputs": [
    {
     "name": "stdout",
     "output_type": "stream",
     "text": [
      "Bob\n",
      "Charlie\n",
      "Bob\n",
      "Charlie\n",
      "Bob\n",
      "Charlie\n",
      "Bob\n",
      "Charlie\n"
     ]
    }
   ],
   "source": [
    "def find_subordinates(driver, manager_name):\n",
    "    with driver.session() as session:\n",
    "        query = \"\"\"\n",
    "        MATCH (manager:Employee {name: $manager_name})<-[:REPORTS_TO]-(subordinate:Employee)\n",
    "        RETURN subordinate.name AS subordinate_name\n",
    "        \"\"\"\n",
    "        results = session.run(query, manager_name=manager_name)\n",
    "        for record in results:\n",
    "            print(record['subordinate_name'])\n",
    "\n",
    "# Find all subordinates of 'Alice'\n",
    "find_subordinates(driver, \"Alice\")\n"
   ]
  },
  {
   "cell_type": "markdown",
   "id": "e4b71379-ec97-4207-a048-91b2e7f8861c",
   "metadata": {},
   "source": [
    "Indexing for Performance"
   ]
  },
  {
   "cell_type": "code",
   "execution_count": 9,
   "id": "91884fa2-6f24-42fb-a58b-1a8127f00f81",
   "metadata": {},
   "outputs": [],
   "source": [
    "def create_indexes(driver):\n",
    "    with driver.session() as session:\n",
    "        session.run(\"CREATE INDEX FOR (e:Employee) ON (e.employee_id)\")\n",
    "        session.run(\"CREATE INDEX FOR (d:Department) ON (d.department_id)\")\n",
    "\n",
    "create_indexes(driver)\n"
   ]
  },
  {
   "cell_type": "code",
   "execution_count": null,
   "id": "277cecd7-7b28-454a-a7f6-8f662e32d90b",
   "metadata": {},
   "outputs": [],
   "source": []
  }
 ],
 "metadata": {
  "kernelspec": {
   "display_name": "Python 3 (ipykernel)",
   "language": "python",
   "name": "python3"
  },
  "language_info": {
   "codemirror_mode": {
    "name": "ipython",
    "version": 3
   },
   "file_extension": ".py",
   "mimetype": "text/x-python",
   "name": "python",
   "nbconvert_exporter": "python",
   "pygments_lexer": "ipython3",
   "version": "3.12.4"
  }
 },
 "nbformat": 4,
 "nbformat_minor": 5
}
