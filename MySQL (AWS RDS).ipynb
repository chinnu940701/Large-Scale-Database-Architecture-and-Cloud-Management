{
 "cells": [
  {
   "cell_type": "markdown",
   "id": "75fa63e8-4347-4164-bf28-c805f3320986",
   "metadata": {},
   "source": [
    "MySQL (AWS RDS)"
   ]
  },
  {
   "cell_type": "code",
   "execution_count": null,
   "id": "d5f03d1f-5809-448e-a1cb-72197e0db985",
   "metadata": {},
   "outputs": [],
   "source": [
    "!pip install mysql-connector-python\n",
    "!pip install pymysql"
   ]
  },
  {
   "cell_type": "code",
   "execution_count": 71,
   "id": "de4385cc-5ee2-4418-a9b9-a212652a8aeb",
   "metadata": {},
   "outputs": [],
   "source": [
    "import mysql.connector\n",
    "\n",
    "connection = mysql.connector.connect(\n",
    "    host='database-1.cny68em2qft0.ap-southeast-2.rds.amazonaws.com',\n",
    "    user='Sukumari',\n",
    "    password='daanvi19',\n",
    "    database='my_db'\n",
    ")\n",
    "\n",
    "cursor = connection.cursor()\n"
   ]
  },
  {
   "cell_type": "markdown",
   "id": "3227834e-44d2-41d0-80ff-6421fb75bd15",
   "metadata": {},
   "source": [
    "Create the Users Table"
   ]
  },
  {
   "cell_type": "code",
   "execution_count": 9,
   "id": "4617d1af-ecc6-4f82-bf96-3ad5891f8903",
   "metadata": {},
   "outputs": [
    {
     "name": "stdout",
     "output_type": "stream",
     "text": [
      "Users table created successfully.\n"
     ]
    }
   ],
   "source": [
    "create_users_table = \"\"\"\n",
    "CREATE TABLE IF NOT EXISTS Users (\n",
    "    user_id INT AUTO_INCREMENT PRIMARY KEY,\n",
    "    username VARCHAR(50) NOT NULL UNIQUE,\n",
    "    email VARCHAR(100) NOT NULL UNIQUE,\n",
    "    password_hash VARCHAR(255) NOT NULL,\n",
    "    created_at TIMESTAMP DEFAULT CURRENT_TIMESTAMP\n",
    ");\n",
    "\"\"\"\n",
    "\n",
    "cursor.execute(create_users_table)\n",
    "connection.commit()\n",
    "print(\"Users table created successfully.\")\n"
   ]
  },
  {
   "cell_type": "markdown",
   "id": "4db4a370-869c-4d75-b6e5-0b2f609c4640",
   "metadata": {},
   "source": [
    "Create the Products Table"
   ]
  },
  {
   "cell_type": "code",
   "execution_count": 11,
   "id": "002662bd-b564-448e-865a-5e647dcca3f6",
   "metadata": {},
   "outputs": [
    {
     "name": "stdout",
     "output_type": "stream",
     "text": [
      "Products table created successfully.\n"
     ]
    }
   ],
   "source": [
    "create_products_table = \"\"\"\n",
    "CREATE TABLE IF NOT EXISTS Products (\n",
    "    product_id INT AUTO_INCREMENT PRIMARY KEY,\n",
    "    name VARCHAR(100) NOT NULL,\n",
    "    description TEXT,\n",
    "    price DECIMAL(10, 2) NOT NULL,\n",
    "    category_id INT,\n",
    "    created_at TIMESTAMP DEFAULT CURRENT_TIMESTAMP\n",
    ");\n",
    "\"\"\"\n",
    "\n",
    "cursor.execute(create_products_table)\n",
    "connection.commit()\n",
    "print(\"Products table created successfully.\")\n"
   ]
  },
  {
   "cell_type": "markdown",
   "id": "c5e1ec4a-e1ef-4ddd-bd99-a2f5b505dee1",
   "metadata": {},
   "source": [
    "Create the Orders Tablecessfully.\")\r\n"
   ]
  },
  {
   "cell_type": "code",
   "execution_count": 13,
   "id": "4b4e22e8-f7e3-4edc-bfb0-08d1cfd29d22",
   "metadata": {},
   "outputs": [
    {
     "name": "stdout",
     "output_type": "stream",
     "text": [
      "Orders table created successfully.\n"
     ]
    }
   ],
   "source": [
    "create_orders_table = \"\"\"\n",
    "CREATE TABLE IF NOT EXISTS Orders (\n",
    "    order_id INT AUTO_INCREMENT PRIMARY KEY,\n",
    "    user_id INT,\n",
    "    order_date TIMESTAMP DEFAULT CURRENT_TIMESTAMP,\n",
    "    total_amount DECIMAL(10, 2),\n",
    "    FOREIGN KEY (user_id) REFERENCES Users(user_id)\n",
    ");\n",
    "\"\"\"\n",
    "\n",
    "cursor.execute(create_orders_table)\n",
    "connection.commit()\n",
    "print(\"Orders table created successfully.\")\n"
   ]
  },
  {
   "cell_type": "markdown",
   "id": "edf5dc52-3ba6-4583-9137-d75f3d82498c",
   "metadata": {},
   "source": [
    "Create the Order_Items Table"
   ]
  },
  {
   "cell_type": "code",
   "execution_count": 15,
   "id": "7ffd1852-269a-4001-bbc0-07e3d3632df2",
   "metadata": {},
   "outputs": [
    {
     "name": "stdout",
     "output_type": "stream",
     "text": [
      "Order_Items table created successfully.\n"
     ]
    }
   ],
   "source": [
    "create_order_items_table = \"\"\"\n",
    "CREATE TABLE IF NOT EXISTS Order_Items (\n",
    "    order_item_id INT AUTO_INCREMENT PRIMARY KEY,\n",
    "    order_id INT,\n",
    "    product_id INT,\n",
    "    quantity INT NOT NULL,\n",
    "    price DECIMAL(10, 2) NOT NULL,\n",
    "    FOREIGN KEY (order_id) REFERENCES Orders(order_id),\n",
    "    FOREIGN KEY (product_id) REFERENCES Products(product_id)\n",
    ");\n",
    "\"\"\"\n",
    "\n",
    "cursor.execute(create_order_items_table)\n",
    "connection.commit()\n",
    "print(\"Order_Items table created successfully.\")\n"
   ]
  },
  {
   "cell_type": "markdown",
   "id": "d762f820-f012-45d7-9f77-a1336c1bf5f1",
   "metadata": {},
   "source": [
    "Create the Inventory Table"
   ]
  },
  {
   "cell_type": "code",
   "execution_count": 17,
   "id": "ece0f5dd-d3ea-45b3-b5d6-87bf30ac0724",
   "metadata": {},
   "outputs": [
    {
     "name": "stdout",
     "output_type": "stream",
     "text": [
      "Inventory table created successfully.\n"
     ]
    }
   ],
   "source": [
    "create_inventory_table = \"\"\"\n",
    "CREATE TABLE IF NOT EXISTS Inventory (\n",
    "    product_id INT PRIMARY KEY,\n",
    "    quantity_in_stock INT NOT NULL,\n",
    "    FOREIGN KEY (product_id) REFERENCES Products(product_id)\n",
    ");\n",
    "\"\"\"\n",
    "\n",
    "cursor.execute(create_inventory_table)\n",
    "connection.commit()\n",
    "print(\"Inventory table created successfully.\")\n"
   ]
  },
  {
   "cell_type": "markdown",
   "id": "91a857b2-72cc-41a4-ab99-c03828e656cc",
   "metadata": {},
   "source": [
    "Insert Data into Users Table"
   ]
  },
  {
   "cell_type": "code",
   "execution_count": 19,
   "id": "56f8a729-05ee-4b45-9776-5f9dd0b499c3",
   "metadata": {},
   "outputs": [
    {
     "name": "stdout",
     "output_type": "stream",
     "text": [
      "Sample users inserted successfully.\n"
     ]
    }
   ],
   "source": [
    "insert_users = \"\"\"\n",
    "INSERT INTO Users (username, email, password_hash)\n",
    "VALUES\n",
    "('john_doe', 'john@example.com', 'hashed_password_1'),\n",
    "('jane_doe', 'jane@example.com', 'hashed_password_2');\n",
    "\"\"\"\n",
    "\n",
    "cursor.execute(insert_users)\n",
    "connection.commit()\n",
    "print(\"Sample users inserted successfully.\")\n"
   ]
  },
  {
   "cell_type": "markdown",
   "id": "26e16f88-1342-470c-8699-cd398110a231",
   "metadata": {},
   "source": [
    "Insert Data into Products Table"
   ]
  },
  {
   "cell_type": "code",
   "execution_count": 21,
   "id": "4ee27aea-84e9-4973-b1cd-9a69059e08da",
   "metadata": {},
   "outputs": [
    {
     "name": "stdout",
     "output_type": "stream",
     "text": [
      "Sample products inserted successfully.\n"
     ]
    }
   ],
   "source": [
    "insert_products = \"\"\"\n",
    "INSERT INTO Products (name, description, price, category_id)\n",
    "VALUES\n",
    "('Laptop', 'A high-performance laptop', 999.99, 1),\n",
    "('Smartphone', 'A latest model smartphone', 499.99, 2);\n",
    "\"\"\"\n",
    "\n",
    "cursor.execute(insert_products)\n",
    "connection.commit()\n",
    "print(\"Sample products inserted successfully.\")\n"
   ]
  },
  {
   "cell_type": "markdown",
   "id": "9d822aa0-a1b1-48be-bdcf-80933d891358",
   "metadata": {},
   "source": [
    "Insert Data into Orders and Order_Items Tables"
   ]
  },
  {
   "cell_type": "code",
   "execution_count": 23,
   "id": "b675f0cf-61e1-4287-9b89-00bd13f74da8",
   "metadata": {},
   "outputs": [
    {
     "name": "stdout",
     "output_type": "stream",
     "text": [
      "Sample orders and order items inserted successfully.\n"
     ]
    }
   ],
   "source": [
    "insert_orders = \"\"\"\n",
    "INSERT INTO Orders (user_id, total_amount)\n",
    "VALUES\n",
    "(1, 1499.98),\n",
    "(2, 999.99);\n",
    "\"\"\"\n",
    "\n",
    "cursor.execute(insert_orders)\n",
    "connection.commit()\n",
    "\n",
    "insert_order_items = \"\"\"\n",
    "INSERT INTO Order_Items (order_id, product_id, quantity, price)\n",
    "VALUES\n",
    "(1, 1, 1, 999.99),\n",
    "(1, 2, 1, 499.99),\n",
    "(2, 1, 1, 999.99);\n",
    "\"\"\"\n",
    "\n",
    "cursor.execute(insert_order_items)\n",
    "connection.commit()\n",
    "print(\"Sample orders and order items inserted successfully.\")\n"
   ]
  },
  {
   "cell_type": "markdown",
   "id": "5ac05e0f-aedc-4b0b-96b9-9d5b4906dc6a",
   "metadata": {},
   "source": [
    "Insert Data into Inventory Table"
   ]
  },
  {
   "cell_type": "code",
   "execution_count": 25,
   "id": "abbbf2e1-a4ca-45d6-8bc1-a99cdb70ea42",
   "metadata": {},
   "outputs": [
    {
     "name": "stdout",
     "output_type": "stream",
     "text": [
      "Sample inventory data inserted successfully.\n"
     ]
    }
   ],
   "source": [
    "insert_inventory = \"\"\"\n",
    "INSERT INTO Inventory (product_id, quantity_in_stock)\n",
    "VALUES\n",
    "(1, 100),\n",
    "(2, 200);\n",
    "\"\"\"\n",
    "\n",
    "cursor.execute(insert_inventory)\n",
    "connection.commit()\n",
    "print(\"Sample inventory data inserted successfully.\")\n"
   ]
  },
  {
   "cell_type": "markdown",
   "id": "6874d918-772b-4888-9224-ebdac361561e",
   "metadata": {},
   "source": [
    "Query the Users table"
   ]
  },
  {
   "cell_type": "code",
   "execution_count": 27,
   "id": "2f5ce392-4ee3-4020-ab8c-504673ac138e",
   "metadata": {},
   "outputs": [
    {
     "name": "stdout",
     "output_type": "stream",
     "text": [
      "(1, 'john_doe', 'john@example.com', 'hashed_password_1', datetime.datetime(2024, 8, 27, 8, 41, 52))\n",
      "(2, 'jane_doe', 'jane@example.com', 'hashed_password_2', datetime.datetime(2024, 8, 27, 8, 41, 52))\n"
     ]
    }
   ],
   "source": [
    "cursor.execute(\"SELECT * FROM Users;\")\n",
    "users = cursor.fetchall()\n",
    "for user in users:\n",
    "    print(user)\n"
   ]
  },
  {
   "cell_type": "markdown",
   "id": "bc84b0b3-d7f9-423a-a973-3adc6b58fa78",
   "metadata": {},
   "source": [
    "Query the Products table"
   ]
  },
  {
   "cell_type": "code",
   "execution_count": 29,
   "id": "52153845-92cd-4ef3-9671-bad8c8286bef",
   "metadata": {},
   "outputs": [
    {
     "name": "stdout",
     "output_type": "stream",
     "text": [
      "(1, 'Laptop', 'A high-performance laptop', Decimal('999.99'), 1, datetime.datetime(2024, 8, 27, 8, 42, 29))\n",
      "(2, 'Smartphone', 'A latest model smartphone', Decimal('499.99'), 2, datetime.datetime(2024, 8, 27, 8, 42, 29))\n"
     ]
    }
   ],
   "source": [
    "cursor.execute(\"SELECT * FROM Products;\")\n",
    "products = cursor.fetchall()\n",
    "for product in products:\n",
    "    print(product)\n"
   ]
  },
  {
   "cell_type": "markdown",
   "id": "c55b2463-162f-4b97-8eb9-2d9db3ef3c6a",
   "metadata": {},
   "source": [
    "Query the Orders table"
   ]
  },
  {
   "cell_type": "code",
   "execution_count": 31,
   "id": "0d4eae45-3a0d-499d-9101-08d44d356e1c",
   "metadata": {},
   "outputs": [
    {
     "name": "stdout",
     "output_type": "stream",
     "text": [
      "(1, 1, datetime.datetime(2024, 8, 27, 8, 43, 15), Decimal('1499.98'))\n",
      "(2, 2, datetime.datetime(2024, 8, 27, 8, 43, 15), Decimal('999.99'))\n"
     ]
    }
   ],
   "source": [
    "cursor.execute(\"SELECT * FROM Orders;\")\n",
    "orders = cursor.fetchall()\n",
    "for order in orders:\n",
    "    print(order)\n"
   ]
  },
  {
   "cell_type": "markdown",
   "id": "820fa7c1-fd42-43ba-a230-cfcbac184e26",
   "metadata": {},
   "source": [
    "Query the Inventory table"
   ]
  },
  {
   "cell_type": "code",
   "execution_count": 33,
   "id": "6230b27e-ccce-4734-a631-ba129a78269d",
   "metadata": {},
   "outputs": [
    {
     "name": "stdout",
     "output_type": "stream",
     "text": [
      "(1, 100)\n",
      "(2, 200)\n"
     ]
    }
   ],
   "source": [
    "cursor.execute(\"SELECT * FROM Inventory;\")\n",
    "inventory = cursor.fetchall()\n",
    "for item in inventory:\n",
    "    print(item)\n"
   ]
  },
  {
   "cell_type": "markdown",
   "id": "b282da1e-a077-489f-afd5-6de2e0ba5e86",
   "metadata": {},
   "source": [
    "Modify the Orders Table to Enable Partitioning"
   ]
  },
  {
   "cell_type": "code",
   "execution_count": 49,
   "id": "12f57968-7c42-4274-b202-64917f835508",
   "metadata": {},
   "outputs": [
    {
     "name": "stdout",
     "output_type": "stream",
     "text": [
      "Year column added successfully.\n"
     ]
    }
   ],
   "source": [
    "add_year_column = \"\"\"\n",
    "ALTER TABLE Orders\n",
    "ADD COLUMN order_year INT GENERATED ALWAYS AS (YEAR(order_date)) STORED;\n",
    "\"\"\"\n",
    "\n",
    "cursor.execute(add_year_column)\n",
    "connection.commit()\n",
    "print(\"Year column added successfully.\")\n"
   ]
  },
  {
   "cell_type": "markdown",
   "id": "1d60a7d3-843e-45d2-9569-215f40ba3deb",
   "metadata": {},
   "source": [
    "Adding Indexes"
   ]
  },
  {
   "cell_type": "code",
   "execution_count": 55,
   "id": "7c4768ab-b56a-4bc5-adff-49aaba6d2888",
   "metadata": {},
   "outputs": [
    {
     "name": "stdout",
     "output_type": "stream",
     "text": [
      "Index on Users.email created successfully.\n"
     ]
    }
   ],
   "source": [
    "create_index_users_email = \"\"\"\n",
    "CREATE INDEX idx_users_email ON Users(email);\n",
    "\"\"\"\n",
    "\n",
    "cursor.execute(create_index_users_email)\n",
    "connection.commit()\n",
    "print(\"Index on Users.email created successfully.\")\n"
   ]
  },
  {
   "cell_type": "code",
   "execution_count": 57,
   "id": "1b20c268-f871-488c-a2f3-5539d598add6",
   "metadata": {},
   "outputs": [
    {
     "name": "stdout",
     "output_type": "stream",
     "text": [
      "Index on Orders.order_date created successfully.\n"
     ]
    }
   ],
   "source": [
    "create_index_orders_date = \"\"\"\n",
    "CREATE INDEX idx_orders_date ON Orders(order_date);\n",
    "\"\"\"\n",
    "\n",
    "cursor.execute(create_index_orders_date)\n",
    "connection.commit()\n",
    "print(\"Index on Orders.order_date created successfully.\")\n"
   ]
  },
  {
   "cell_type": "code",
   "execution_count": 59,
   "id": "0fe1ced9-d84b-4fd0-b789-992ad3141d11",
   "metadata": {},
   "outputs": [
    {
     "name": "stdout",
     "output_type": "stream",
     "text": [
      "Composite index on Order_Items created successfully.\n"
     ]
    }
   ],
   "source": [
    "create_index_order_items = \"\"\"\n",
    "CREATE INDEX idx_order_items ON Order_Items(order_id, product_id);\n",
    "\"\"\"\n",
    "\n",
    "cursor.execute(create_index_order_items)\n",
    "connection.commit()\n",
    "print(\"Composite index on Order_Items created successfully.\")\n"
   ]
  },
  {
   "cell_type": "code",
   "execution_count": 61,
   "id": "9f36e42c-1bef-44a9-b880-1c8e4d983742",
   "metadata": {},
   "outputs": [
    {
     "name": "stdout",
     "output_type": "stream",
     "text": [
      "Index on Inventory.product_id created successfully.\n"
     ]
    }
   ],
   "source": [
    "create_index_inventory_product = \"\"\"\n",
    "CREATE INDEX idx_inventory_product ON Inventory(product_id);\n",
    "\"\"\"\n",
    "\n",
    "cursor.execute(create_index_inventory_product)\n",
    "connection.commit()\n",
    "print(\"Index on Inventory.product_id created successfully.\")\n"
   ]
  },
  {
   "cell_type": "code",
   "execution_count": 73,
   "id": "6d812872-77db-4ee2-be68-bc5a6d3f2475",
   "metadata": {
    "scrolled": true
   },
   "outputs": [
    {
     "name": "stdout",
     "output_type": "stream",
     "text": [
      "Foreign Key Constraint: orders_ibfk_1\n"
     ]
    }
   ],
   "source": [
    "# Check foreign key constraints\n",
    "check_fk_constraints = \"\"\"\n",
    "SELECT constraint_name \n",
    "FROM information_schema.key_column_usage \n",
    "WHERE table_name = 'orders' AND referenced_table_name IS NOT NULL;\n",
    "\"\"\"\n",
    "\n",
    "cursor.execute(check_fk_constraints)\n",
    "fk_constraints = cursor.fetchall()\n",
    "\n",
    "for fk in fk_constraints:\n",
    "    print(f\"Foreign Key Constraint: {fk[0]}\")\n"
   ]
  },
  {
   "cell_type": "code",
   "execution_count": 81,
   "id": "84bd114a-fb04-478c-88b1-16242c6c1ec5",
   "metadata": {},
   "outputs": [],
   "source": [
    "# Partition the products table by product_id\n",
    "partition_products_table = \"\"\"\n",
    "ALTER TABLE products\n",
    "PARTITION BY RANGE (product_id) (\n",
    "    PARTITION p0 VALUES LESS THAN (1000),\n",
    "    PARTITION p1 VALUES LESS THAN (2000),\n",
    "    PARTITION p2 VALUES LESS THAN (3000),\n",
    "    PARTITION p3 VALUES LESS THAN (MAXVALUE)\n",
    ");\n",
    "\"\"\"\n"
   ]
  },
  {
   "cell_type": "code",
   "execution_count": 83,
   "id": "145cd9cb-6f87-4a78-81b3-0244ecc31459",
   "metadata": {},
   "outputs": [],
   "source": [
    "# Partition the users table by user_id\n",
    "partition_users_table = \"\"\"\n",
    "ALTER TABLE users\n",
    "PARTITION BY RANGE (user_id) (\n",
    "    PARTITION p0 VALUES LESS THAN (1000),\n",
    "    PARTITION p1 VALUES LESS THAN (2000),\n",
    "    PARTITION p2 VALUES LESS THAN (3000),\n",
    "    PARTITION p3 VALUES LESS THAN (MAXVALUE)\n",
    ");\n",
    "\"\"\"\n"
   ]
  },
  {
   "cell_type": "code",
   "execution_count": 85,
   "id": "f165a3ea-6d57-4e95-935e-30ed2abc706c",
   "metadata": {},
   "outputs": [],
   "source": [
    "# Partition the orders table by order_date\n",
    "partition_orders_table = \"\"\"\n",
    "ALTER TABLE orders\n",
    "PARTITION BY RANGE (YEAR(order_date)) (\n",
    "    PARTITION p0 VALUES LESS THAN (2010),\n",
    "    PARTITION p1 VALUES LESS THAN (2015),\n",
    "    PARTITION p2 VALUES LESS THAN (2020),\n",
    "    PARTITION p3 VALUES LESS THAN (MAXVALUE)\n",
    ");\n",
    "\"\"\"\n"
   ]
  },
  {
   "cell_type": "code",
   "execution_count": 87,
   "id": "ccf44480-ec1b-4d68-8753-25483708f2e9",
   "metadata": {},
   "outputs": [],
   "source": [
    "# Partition the order_items table by order_id\n",
    "partition_order_items_table = \"\"\"\n",
    "ALTER TABLE order_items\n",
    "PARTITION BY RANGE (order_id) (\n",
    "    PARTITION p0 VALUES LESS THAN (1000),\n",
    "    PARTITION p1 VALUES LESS THAN (2000),\n",
    "    PARTITION p2 VALUES LESS THAN (3000),\n",
    "    PARTITION p3 VALUES LESS THAN (MAXVALUE)\n",
    ");\n",
    "\"\"\"\n"
   ]
  },
  {
   "cell_type": "code",
   "execution_count": 93,
   "id": "fb068571-ec8c-4871-9cf3-c7ef242a3020",
   "metadata": {},
   "outputs": [],
   "source": [
    "# Drop foreign key constraints\n",
    "drop_fk_constraint = \"\"\"\n",
    "ALTER TABLE orders DROP FOREIGN KEY fk_user_id;\n",
    "\"\"\"\n",
    "\n",
    "# Add foreign key constraints\n",
    "add_fk_constraint = \"\"\"\n",
    "ALTER TABLE orders\n",
    "ADD CONSTRAINT fk_user_id FOREIGN KEY (user_id) REFERENCES users(user_id);\n",
    "\"\"\"\n"
   ]
  },
  {
   "cell_type": "code",
   "execution_count": null,
   "id": "e0c3f136-1616-4897-a551-1b2e2569b386",
   "metadata": {},
   "outputs": [],
   "source": []
  }
 ],
 "metadata": {
  "kernelspec": {
   "display_name": "Python 3 (ipykernel)",
   "language": "python",
   "name": "python3"
  },
  "language_info": {
   "codemirror_mode": {
    "name": "ipython",
    "version": 3
   },
   "file_extension": ".py",
   "mimetype": "text/x-python",
   "name": "python",
   "nbconvert_exporter": "python",
   "pygments_lexer": "ipython3",
   "version": "3.12.4"
  }
 },
 "nbformat": 4,
 "nbformat_minor": 5
}
