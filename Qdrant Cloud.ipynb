{
 "cells": [
  {
   "cell_type": "markdown",
   "id": "9ea05bd1-9330-4390-a3dc-64af53f23b56",
   "metadata": {},
   "source": [
    "Create the Collection"
   ]
  },
  {
   "cell_type": "code",
   "execution_count": 27,
   "id": "bb6edf21-6724-491c-b1dd-fe00f95760e9",
   "metadata": {},
   "outputs": [
    {
     "name": "stdout",
     "output_type": "stream",
     "text": [
      "Collection 'semantic_search' already exists.\n"
     ]
    }
   ],
   "source": [
    "from qdrant_client import QdrantClient\n",
    "from qdrant_client.http.models import VectorParams\n",
    "\n",
    "# Initialize Qdrant Client\n",
    "qdrant_client = QdrantClient(\n",
    "    url=\"2040fc5f-bf8d-4921-8213-075eee2403f1.europe-west3-0.gcp.cloud.qdrant.io:6333\",  # Replace with your Qdrant cluster URL\n",
    "    api_key=\"13NTI6NfrXXG_oE28Re5bpqPvyrGu1tXG_SIM_GnSS28zghRkeMAOQ\"  # Replace with your API key\n",
    ")\n",
    "\n",
    "# Define the collection name\n",
    "collection_name = \"semantic_search\"\n",
    "\n",
    "# Define vectors configuration\n",
    "vectors_config = {\n",
    "    \"default\": VectorParams(\n",
    "        size=768,  # Number of dimensions in your vectors\n",
    "        distance=\"Cosine\"  # The distance metric to use\n",
    "    )\n",
    "}\n",
    "\n",
    "# Check if the collection exists\n",
    "if not qdrant_client.collection_exists(collection_name):\n",
    "    # Create the collection if it doesn't exist\n",
    "    qdrant_client.create_collection(\n",
    "        collection_name=collection_name,\n",
    "        vectors_config=vectors_config\n",
    "    )\n",
    "else:\n",
    "    print(f\"Collection '{collection_name}' already exists.\")\n"
   ]
  },
  {
   "cell_type": "code",
   "execution_count": 9,
   "id": "023b6ad0-d8c4-45a9-9548-0dc721fe8c75",
   "metadata": {},
   "outputs": [
    {
     "data": {
      "text/plain": [
       "True"
      ]
     },
     "execution_count": 9,
     "metadata": {},
     "output_type": "execute_result"
    }
   ],
   "source": [
    "# Delete the existing collection (if you want to start fresh)\n",
    "qdrant_client.delete_collection(collection_name)\n",
    "\n",
    "# Recreate the collection with the correct vector size\n",
    "vectors_config = {\n",
    "    \"default\": VectorParams(\n",
    "        size=384,  # Adjust the vector size here\n",
    "        distance=\"Cosine\"\n",
    "    )\n",
    "}\n",
    "\n",
    "qdrant_client.create_collection(\n",
    "    collection_name=collection_name,\n",
    "    vectors_config=vectors_config\n",
    ")"
   ]
  },
  {
   "cell_type": "markdown",
   "id": "17d2bcca-caf4-482b-a47d-ca43fada99e2",
   "metadata": {},
   "source": [
    "Insert Vectors into Qdrant"
   ]
  },
  {
   "cell_type": "code",
   "execution_count": 11,
   "id": "c100601e-6875-4496-9e2e-80e8b765d021",
   "metadata": {},
   "outputs": [
    {
     "name": "stdout",
     "output_type": "stream",
     "text": [
      "Vectors inserted successfully.\n"
     ]
    }
   ],
   "source": [
    "from sentence_transformers import SentenceTransformer\n",
    "import numpy as np\n",
    "\n",
    "# Load a pre-trained model that outputs 768-dimensional vectors\n",
    "model = SentenceTransformer('all-MiniLM-L6-v2')\n",
    "\n",
    "# Example documents to be inserted\n",
    "documents = [\n",
    "    \"This is the first document.\",\n",
    "    \"This document is the second one.\",\n",
    "    \"And here is the third document.\"\n",
    "]\n",
    "\n",
    "# Convert documents to vectors\n",
    "vectors = model.encode(documents)\n",
    "\n",
    "# Prepare payload (optional metadata for each vector)\n",
    "payloads = [{\"id\": i, \"text\": doc} for i, doc in enumerate(documents)]\n",
    "\n",
    "# Insert vectors into Qdrant collection\n",
    "for i, vector in enumerate(vectors):\n",
    "    qdrant_client.upsert(\n",
    "        collection_name=collection_name,\n",
    "        points=[\n",
    "            {\n",
    "                \"id\": i,  # unique identifier for the vector\n",
    "                \"vector\": {\"default\": vector.tolist()},  # specify the vector name as \"default\"\n",
    "                \"payload\": payloads[i]  # optional metadata\n",
    "            }\n",
    "        ]\n",
    "    )\n",
    "\n",
    "print(\"Vectors inserted successfully.\")\n"
   ]
  },
  {
   "cell_type": "markdown",
   "id": "edb0b91d-3947-43f9-8662-f360a06c007b",
   "metadata": {},
   "source": [
    "Update a Vector"
   ]
  },
  {
   "cell_type": "code",
   "execution_count": 15,
   "id": "87ded577-6382-4e2d-809b-e32abf38b42f",
   "metadata": {},
   "outputs": [
    {
     "name": "stdout",
     "output_type": "stream",
     "text": [
      "Vector updated successfully.\n"
     ]
    }
   ],
   "source": [
    "# Example: Update the first document\n",
    "updated_document = \"This is the updated first document.\"\n",
    "updated_vector = model.encode([updated_document])[0]\n",
    "\n",
    "qdrant_client.upsert(\n",
    "    collection_name=collection_name,\n",
    "    points=[\n",
    "        {\n",
    "            \"id\": 0,  # ID of the vector to update\n",
    "            \"vector\": {\"default\": updated_vector.tolist()},\n",
    "            \"payload\": {\"id\": 0, \"text\": updated_document}\n",
    "        }\n",
    "    ]\n",
    ")\n",
    "\n",
    "print(\"Vector updated successfully.\")\n"
   ]
  },
  {
   "cell_type": "markdown",
   "id": "57a9a149-d675-4bfb-81ad-600f640c9751",
   "metadata": {},
   "source": [
    "Delete a Vector"
   ]
  },
  {
   "cell_type": "code",
   "execution_count": 21,
   "id": "7df68ac6-4a64-4da2-9371-243cff17145e",
   "metadata": {},
   "outputs": [
    {
     "name": "stdout",
     "output_type": "stream",
     "text": [
      "Vector deleted successfully.\n"
     ]
    }
   ],
   "source": [
    "from qdrant_client.http import models as qmodels\n",
    "\n",
    "# Example: Delete the vector with ID 1\n",
    "qdrant_client.delete(\n",
    "    collection_name=collection_name,\n",
    "    points_selector=qmodels.PointIdsList(\n",
    "        points=[1]  # Replace with the ID of the vector you want to delete\n",
    "    )\n",
    ")\n",
    "\n",
    "print(\"Vector deleted successfully.\")\n"
   ]
  },
  {
   "cell_type": "code",
   "execution_count": null,
   "id": "35fdb365-ae44-43ed-9f2e-f26123732a8d",
   "metadata": {},
   "outputs": [],
   "source": []
  }
 ],
 "metadata": {
  "kernelspec": {
   "display_name": "Python 3 (ipykernel)",
   "language": "python",
   "name": "python3"
  },
  "language_info": {
   "codemirror_mode": {
    "name": "ipython",
    "version": 3
   },
   "file_extension": ".py",
   "mimetype": "text/x-python",
   "name": "python",
   "nbconvert_exporter": "python",
   "pygments_lexer": "ipython3",
   "version": "3.12.4"
  }
 },
 "nbformat": 4,
 "nbformat_minor": 5
}
