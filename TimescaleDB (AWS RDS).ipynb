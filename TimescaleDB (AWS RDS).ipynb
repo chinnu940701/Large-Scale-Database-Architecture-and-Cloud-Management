{
 "cells": [
  {
   "cell_type": "code",
   "execution_count": null,
   "id": "7e93aebb-207d-4fa1-a499-245ee64f34ab",
   "metadata": {},
   "outputs": [],
   "source": [
    "!pip install psycopg2-binary sqlalchemy"
   ]
  },
  {
   "cell_type": "markdown",
   "id": "81fc0057-c130-4fad-a345-f70d5b61035f",
   "metadata": {},
   "source": [
    "Define and creating the table and Querying Data"
   ]
  },
  {
   "cell_type": "code",
   "execution_count": 91,
   "id": "c3380e28-2981-4ede-8682-0c6a0bbcc9eb",
   "metadata": {},
   "outputs": [],
   "source": [
    "from sqlalchemy import create_engine, Table, Column, Integer, Float, String, MetaData, select\n",
    "\n",
    "# Database connection details\n",
    "db_username = \"postgres\"\n",
    "db_password = \"daanvi19\"\n",
    "db_name = \"timescaledb\"\n",
    "db_host = \"database-6.cdewswea8e29.us-east-1.rds.amazonaws.com\"\n",
    "db_port = \"5432\"\n",
    "connection_string = f\"postgresql://{db_username}:{db_password}@{db_host}:{db_port}/{db_name}\"\n",
    "\n",
    "# Create engine\n",
    "engine = create_engine(connection_string)\n",
    "\n",
    "# Define metadata and table\n",
    "metadata = MetaData()\n",
    "example_table = Table(\n",
    "    'example_table', metadata,\n",
    "    Column('id', Integer, primary_key=True),\n",
    "    Column('value', Float),\n",
    "    Column('description', String),\n",
    ")\n",
    "\n",
    "# Create table in the database if it does not exist\n",
    "metadata.create_all(engine)\n",
    "\n",
    "# Query data\n",
    "stmt = select(example_table)\n",
    "\n",
    "with engine.connect() as conn:\n",
    "    result = conn.execute(stmt)\n",
    "    for row in result:\n",
    "        print(row)\n"
   ]
  },
  {
   "cell_type": "markdown",
   "id": "4dc6a744-de37-43f3-806c-f8ead007b6ca",
   "metadata": {},
   "source": [
    "Inserting Data"
   ]
  },
  {
   "cell_type": "code",
   "execution_count": 93,
   "id": "b7a3d969-7c1b-4a7d-a69f-13df674798ad",
   "metadata": {},
   "outputs": [
    {
     "name": "stdout",
     "output_type": "stream",
     "text": [
      "Data inserted successfully\n"
     ]
    }
   ],
   "source": [
    "from sqlalchemy import insert\n",
    "\n",
    "# Define data to insert\n",
    "data = [\n",
    "    {'id': 1, 'value': 23.5, 'description': 'Sample entry 1'},\n",
    "    {'id': 2, 'value': 19.2, 'description': 'Sample entry 2'}\n",
    "]\n",
    "\n",
    "# Create an insert statement\n",
    "stmt = insert(example_table).values(data)\n",
    "\n",
    "# Execute the insert statement\n",
    "with engine.connect() as conn:\n",
    "    conn.execute(stmt)\n",
    "    print(\"Data inserted successfully\")\n"
   ]
  },
  {
   "cell_type": "markdown",
   "id": "c278090f-9112-47c0-86cc-6adb75b560ec",
   "metadata": {},
   "source": [
    "Updating Data"
   ]
  },
  {
   "cell_type": "code",
   "execution_count": 95,
   "id": "52aff9fa-0686-404e-b9b7-e0e3c78cb041",
   "metadata": {},
   "outputs": [
    {
     "name": "stdout",
     "output_type": "stream",
     "text": [
      "Data updated successfully\n"
     ]
    }
   ],
   "source": [
    "from sqlalchemy import update\n",
    "\n",
    "# Define update statement\n",
    "stmt = update(example_table).where(example_table.c.id == 1).values(description='Updated entry')\n",
    "\n",
    "# Execute the update statement\n",
    "with engine.connect() as conn:\n",
    "    conn.execute(stmt)\n",
    "    print(\"Data updated successfully\")\n"
   ]
  },
  {
   "cell_type": "markdown",
   "id": "0138962a-ed54-426b-9a38-15e7ccb0bf44",
   "metadata": {},
   "source": [
    "Deleting Data"
   ]
  },
  {
   "cell_type": "code",
   "execution_count": 97,
   "id": "3a186755-7672-42c7-ba48-b5161fa5aadb",
   "metadata": {},
   "outputs": [
    {
     "name": "stdout",
     "output_type": "stream",
     "text": [
      "Data deleted successfully\n"
     ]
    }
   ],
   "source": [
    "from sqlalchemy import delete\n",
    "\n",
    "# Define delete statement\n",
    "stmt = delete(example_table).where(example_table.c.id == 1)\n",
    "\n",
    "# Execute the delete statement\n",
    "with engine.connect() as conn:\n",
    "    conn.execute(stmt)\n",
    "    print(\"Data deleted successfully\")\n"
   ]
  },
  {
   "cell_type": "markdown",
   "id": "bb44e708-a608-4e8a-9611-6caa55992807",
   "metadata": {},
   "source": [
    "Create Indexes"
   ]
  },
  {
   "cell_type": "code",
   "execution_count": 103,
   "id": "95e761b7-bcc5-467b-b713-046297af42ef",
   "metadata": {},
   "outputs": [],
   "source": [
    "from sqlalchemy import Index\n",
    "\n",
    "# Define an index\n",
    "index = Index('ix_example_table_value', example_table.c.value)\n",
    "\n",
    "# Create the index in the database\n",
    "with engine.connect() as conn:\n",
    "    index.create(conn)\n"
   ]
  },
  {
   "cell_type": "code",
   "execution_count": null,
   "id": "1e17fadd-c176-475f-b87e-3b4b3bebbfe3",
   "metadata": {},
   "outputs": [],
   "source": []
  }
 ],
 "metadata": {
  "kernelspec": {
   "display_name": "Python 3 (ipykernel)",
   "language": "python",
   "name": "python3"
  },
  "language_info": {
   "codemirror_mode": {
    "name": "ipython",
    "version": 3
   },
   "file_extension": ".py",
   "mimetype": "text/x-python",
   "name": "python",
   "nbconvert_exporter": "python",
   "pygments_lexer": "ipython3",
   "version": "3.12.4"
  }
 },
 "nbformat": 4,
 "nbformat_minor": 5
}
